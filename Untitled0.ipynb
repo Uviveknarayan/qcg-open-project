{
  "nbformat": 4,
  "nbformat_minor": 0,
  "metadata": {
    "colab": {
      "name": "Untitled0.ipynb",
      "provenance": [],
      "authorship_tag": "ABX9TyNI6bqZHgAuQCgA1qHLmbg0",
      "include_colab_link": true
    },
    "kernelspec": {
      "name": "python3",
      "display_name": "Python 3"
    },
    "language_info": {
      "name": "python"
    }
  },
  "cells": [
    {
      "cell_type": "markdown",
      "metadata": {
        "id": "view-in-github",
        "colab_type": "text"
      },
      "source": [
        "<a href=\"https://colab.research.google.com/github/Uviveknarayan/qcg-open-project/blob/main/Untitled0.ipynb\" target=\"_parent\"><img src=\"https://colab.research.google.com/assets/colab-badge.svg\" alt=\"Open In Colab\"/></a>"
      ]
    },
    {
      "cell_type": "code",
      "execution_count": 1,
      "metadata": {
        "colab": {
          "base_uri": "https://localhost:8080/"
        },
        "id": "6_ZbD2ZD5v7X",
        "outputId": "fa6202aa-93f9-4a41-dae1-47654a67509c"
      },
      "outputs": [
        {
          "output_type": "stream",
          "name": "stdout",
          "text": [
            "Looking in indexes: https://pypi.org/simple, https://us-python.pkg.dev/colab-wheels/public/simple/\n",
            "Collecting qiskit\n",
            "  Downloading qiskit-0.36.2.tar.gz (13 kB)\n",
            "Collecting qiskit-terra==0.20.2\n",
            "  Downloading qiskit_terra-0.20.2-cp37-cp37m-manylinux_2_17_x86_64.manylinux2014_x86_64.whl (6.5 MB)\n",
            "\u001b[K     |████████████████████████████████| 6.5 MB 32.4 MB/s \n",
            "\u001b[?25hCollecting qiskit-aer==0.10.4\n",
            "  Downloading qiskit_aer-0.10.4-cp37-cp37m-manylinux_2_12_x86_64.manylinux2010_x86_64.whl (18.0 MB)\n",
            "\u001b[K     |████████████████████████████████| 18.0 MB 276 kB/s \n",
            "\u001b[?25hCollecting qiskit-ibmq-provider==0.19.1\n",
            "  Downloading qiskit_ibmq_provider-0.19.1-py3-none-any.whl (240 kB)\n",
            "\u001b[K     |████████████████████████████████| 240 kB 62.2 MB/s \n",
            "\u001b[?25hCollecting qiskit-ignis==0.7.1\n",
            "  Downloading qiskit_ignis-0.7.1-py3-none-any.whl (198 kB)\n",
            "\u001b[K     |████████████████████████████████| 198 kB 60.5 MB/s \n",
            "\u001b[?25hRequirement already satisfied: scipy>=1.0 in /usr/local/lib/python3.7/dist-packages (from qiskit-aer==0.10.4->qiskit) (1.4.1)\n",
            "Requirement already satisfied: numpy>=1.16.3 in /usr/local/lib/python3.7/dist-packages (from qiskit-aer==0.10.4->qiskit) (1.21.6)\n",
            "Requirement already satisfied: urllib3>=1.21.1 in /usr/local/lib/python3.7/dist-packages (from qiskit-ibmq-provider==0.19.1->qiskit) (1.24.3)\n",
            "Collecting requests-ntlm>=1.1.0\n",
            "  Downloading requests_ntlm-1.1.0-py2.py3-none-any.whl (5.7 kB)\n",
            "Collecting websockets>=10.0\n",
            "  Downloading websockets-10.3-cp37-cp37m-manylinux_2_5_x86_64.manylinux1_x86_64.manylinux_2_12_x86_64.manylinux2010_x86_64.whl (112 kB)\n",
            "\u001b[K     |████████████████████████████████| 112 kB 49.7 MB/s \n",
            "\u001b[?25hCollecting websocket-client>=1.0.1\n",
            "  Downloading websocket_client-1.3.2-py3-none-any.whl (54 kB)\n",
            "\u001b[K     |████████████████████████████████| 54 kB 2.7 MB/s \n",
            "\u001b[?25hRequirement already satisfied: python-dateutil>=2.8.0 in /usr/local/lib/python3.7/dist-packages (from qiskit-ibmq-provider==0.19.1->qiskit) (2.8.2)\n",
            "Requirement already satisfied: requests>=2.19 in /usr/local/lib/python3.7/dist-packages (from qiskit-ibmq-provider==0.19.1->qiskit) (2.23.0)\n",
            "Collecting retworkx>=0.8.0\n",
            "  Downloading retworkx-0.11.0-cp37-cp37m-manylinux_2_5_x86_64.manylinux1_x86_64.manylinux_2_12_x86_64.manylinux2010_x86_64.whl (1.6 MB)\n",
            "\u001b[K     |████████████████████████████████| 1.6 MB 44.9 MB/s \n",
            "\u001b[?25hRequirement already satisfied: setuptools>=40.1.0 in /usr/local/lib/python3.7/dist-packages (from qiskit-ignis==0.7.1->qiskit) (57.4.0)\n",
            "Collecting stevedore>=3.0.0\n",
            "  Downloading stevedore-3.5.0-py3-none-any.whl (49 kB)\n",
            "\u001b[K     |████████████████████████████████| 49 kB 7.3 MB/s \n",
            "\u001b[?25hCollecting python-constraint>=1.4\n",
            "  Downloading python-constraint-1.4.0.tar.bz2 (18 kB)\n",
            "Requirement already satisfied: dill>=0.3 in /usr/local/lib/python3.7/dist-packages (from qiskit-terra==0.20.2->qiskit) (0.3.5.1)\n",
            "Requirement already satisfied: psutil>=5 in /usr/local/lib/python3.7/dist-packages (from qiskit-terra==0.20.2->qiskit) (5.4.8)\n",
            "Collecting ply>=3.10\n",
            "  Downloading ply-3.11-py2.py3-none-any.whl (49 kB)\n",
            "\u001b[K     |████████████████████████████████| 49 kB 6.8 MB/s \n",
            "\u001b[?25hRequirement already satisfied: sympy>=1.3 in /usr/local/lib/python3.7/dist-packages (from qiskit-terra==0.20.2->qiskit) (1.7.1)\n",
            "Collecting symengine>=0.9\n",
            "  Downloading symengine-0.9.2-cp37-cp37m-manylinux2010_x86_64.whl (37.5 MB)\n",
            "\u001b[K     |████████████████████████████████| 37.5 MB 1.1 MB/s \n",
            "\u001b[?25hCollecting tweedledum<2.0,>=1.1\n",
            "  Downloading tweedledum-1.1.1-cp37-cp37m-manylinux_2_12_x86_64.manylinux2010_x86_64.whl (943 kB)\n",
            "\u001b[K     |████████████████████████████████| 943 kB 63.3 MB/s \n",
            "\u001b[?25hCollecting scipy>=1.0\n",
            "  Downloading scipy-1.7.3-cp37-cp37m-manylinux_2_12_x86_64.manylinux2010_x86_64.whl (38.1 MB)\n",
            "\u001b[K     |████████████████████████████████| 38.1 MB 1.5 MB/s \n",
            "\u001b[?25hRequirement already satisfied: six>=1.5 in /usr/local/lib/python3.7/dist-packages (from python-dateutil>=2.8.0->qiskit-ibmq-provider==0.19.1->qiskit) (1.15.0)\n",
            "Requirement already satisfied: idna<3,>=2.5 in /usr/local/lib/python3.7/dist-packages (from requests>=2.19->qiskit-ibmq-provider==0.19.1->qiskit) (2.10)\n",
            "Requirement already satisfied: certifi>=2017.4.17 in /usr/local/lib/python3.7/dist-packages (from requests>=2.19->qiskit-ibmq-provider==0.19.1->qiskit) (2022.5.18.1)\n",
            "Requirement already satisfied: chardet<4,>=3.0.2 in /usr/local/lib/python3.7/dist-packages (from requests>=2.19->qiskit-ibmq-provider==0.19.1->qiskit) (3.0.4)\n",
            "Collecting cryptography>=1.3\n",
            "  Downloading cryptography-37.0.2-cp36-abi3-manylinux_2_24_x86_64.whl (4.0 MB)\n",
            "\u001b[K     |████████████████████████████████| 4.0 MB 39.9 MB/s \n",
            "\u001b[?25hCollecting ntlm-auth>=1.0.2\n",
            "  Downloading ntlm_auth-1.5.0-py2.py3-none-any.whl (29 kB)\n",
            "Requirement already satisfied: cffi>=1.12 in /usr/local/lib/python3.7/dist-packages (from cryptography>=1.3->requests-ntlm>=1.1.0->qiskit-ibmq-provider==0.19.1->qiskit) (1.15.0)\n",
            "Requirement already satisfied: pycparser in /usr/local/lib/python3.7/dist-packages (from cffi>=1.12->cryptography>=1.3->requests-ntlm>=1.1.0->qiskit-ibmq-provider==0.19.1->qiskit) (2.21)\n",
            "Requirement already satisfied: importlib-metadata>=1.7.0 in /usr/local/lib/python3.7/dist-packages (from stevedore>=3.0.0->qiskit-terra==0.20.2->qiskit) (4.11.4)\n",
            "Collecting pbr!=2.1.0,>=2.0.0\n",
            "  Downloading pbr-5.9.0-py2.py3-none-any.whl (112 kB)\n",
            "\u001b[K     |████████████████████████████████| 112 kB 79.4 MB/s \n",
            "\u001b[?25hRequirement already satisfied: typing-extensions>=3.6.4 in /usr/local/lib/python3.7/dist-packages (from importlib-metadata>=1.7.0->stevedore>=3.0.0->qiskit-terra==0.20.2->qiskit) (4.2.0)\n",
            "Requirement already satisfied: zipp>=0.5 in /usr/local/lib/python3.7/dist-packages (from importlib-metadata>=1.7.0->stevedore>=3.0.0->qiskit-terra==0.20.2->qiskit) (3.8.0)\n",
            "Requirement already satisfied: mpmath>=0.19 in /usr/local/lib/python3.7/dist-packages (from sympy>=1.3->qiskit-terra==0.20.2->qiskit) (1.2.1)\n",
            "Building wheels for collected packages: qiskit, python-constraint\n",
            "  Building wheel for qiskit (setup.py) ... \u001b[?25l\u001b[?25hdone\n",
            "  Created wheel for qiskit: filename=qiskit-0.36.2-py3-none-any.whl size=11933 sha256=ee73a93232b8276a2565753a72bb3695a287298cc48538428d5bcd3186a4cf4f\n",
            "  Stored in directory: /root/.cache/pip/wheels/36/f7/83/e2755ad17aa35bc145fce34e184aaf394a265a978d95caaabf\n",
            "  Building wheel for python-constraint (setup.py) ... \u001b[?25l\u001b[?25hdone\n",
            "  Created wheel for python-constraint: filename=python_constraint-1.4.0-py2.py3-none-any.whl size=24081 sha256=ad0ef2169a352e0c88d1511e18a7ac99673e9f7e69bf6f9f103aff7b2f39bf3c\n",
            "  Stored in directory: /root/.cache/pip/wheels/07/27/db/1222c80eb1e431f3d2199c12569cb1cac60f562a451fe30479\n",
            "Successfully built qiskit python-constraint\n",
            "Installing collected packages: pbr, tweedledum, symengine, stevedore, scipy, retworkx, python-constraint, ply, ntlm-auth, cryptography, websockets, websocket-client, requests-ntlm, qiskit-terra, qiskit-ignis, qiskit-ibmq-provider, qiskit-aer, qiskit\n",
            "  Attempting uninstall: scipy\n",
            "    Found existing installation: scipy 1.4.1\n",
            "    Uninstalling scipy-1.4.1:\n",
            "      Successfully uninstalled scipy-1.4.1\n",
            "\u001b[31mERROR: pip's dependency resolver does not currently take into account all the packages that are installed. This behaviour is the source of the following dependency conflicts.\n",
            "albumentations 0.1.12 requires imgaug<0.2.7,>=0.2.5, but you have imgaug 0.2.9 which is incompatible.\u001b[0m\n",
            "Successfully installed cryptography-37.0.2 ntlm-auth-1.5.0 pbr-5.9.0 ply-3.11 python-constraint-1.4.0 qiskit-0.36.2 qiskit-aer-0.10.4 qiskit-ibmq-provider-0.19.1 qiskit-ignis-0.7.1 qiskit-terra-0.20.2 requests-ntlm-1.1.0 retworkx-0.11.0 scipy-1.7.3 stevedore-3.5.0 symengine-0.9.2 tweedledum-1.1.1 websocket-client-1.3.2 websockets-10.3\n"
          ]
        }
      ],
      "source": [
        "!pip install qiskit\n",
        "import qiskit as q"
      ]
    },
    {
      "cell_type": "code",
      "source": [
        "!pip install pylatexenc\n",
        "import pylatexenc"
      ],
      "metadata": {
        "colab": {
          "base_uri": "https://localhost:8080/"
        },
        "id": "IDxOzy5B6nw3",
        "outputId": "605f83b6-035d-4071-d079-c4960b947827"
      },
      "execution_count": 2,
      "outputs": [
        {
          "output_type": "stream",
          "name": "stdout",
          "text": [
            "Looking in indexes: https://pypi.org/simple, https://us-python.pkg.dev/colab-wheels/public/simple/\n",
            "Collecting pylatexenc\n",
            "  Downloading pylatexenc-2.10.tar.gz (162 kB)\n",
            "\u001b[K     |████████████████████████████████| 162 kB 29.7 MB/s \n",
            "\u001b[?25hBuilding wheels for collected packages: pylatexenc\n",
            "  Building wheel for pylatexenc (setup.py) ... \u001b[?25l\u001b[?25hdone\n",
            "  Created wheel for pylatexenc: filename=pylatexenc-2.10-py3-none-any.whl size=136835 sha256=e568ec34004401511103595e5b363f5800c336d73f99d27345a2b2bcbc84f431\n",
            "  Stored in directory: /root/.cache/pip/wheels/f1/8a/f5/33ee79d4473eb201b519fa40f989b842e373237395a3421f52\n",
            "Successfully built pylatexenc\n",
            "Installing collected packages: pylatexenc\n",
            "Successfully installed pylatexenc-2.10\n"
          ]
        }
      ]
    },
    {
      "cell_type": "code",
      "source": [
        "from qiskit.quantum_info import Statevector, Operator, DensityMatrix, ScalarOp\n",
        "from qiskit import QuantumRegister\n",
        "from qiskit import QuantumCircuit, assemble, Aer\n",
        "from qiskit.visualization import plot_histogram, plot_bloch_vector\n",
        "from math import sqrt, pi\n",
        "import matplotlib.pyplot as plt\n",
        "from qiskit import BasicAer\n",
        "from qiskit.providers.aer import QasmSimulator\n",
        "from qiskit import *\n",
        "import numpy as np\n",
        "import qiskit.quantum_info as qi\n",
        "from qiskit.utils import QuantumInstance\n",
        "from qiskit import QuantumCircuit, transpile\n",
        "from qiskit.providers.basicaer import QasmSimulatorPy"
      ],
      "metadata": {
        "id": "h5JWpALo7baW"
      },
      "execution_count": 4,
      "outputs": []
    },
    {
      "cell_type": "code",
      "source": [
        "import time\n",
        "import matplotlib.pyplot as plt\n",
        "from IPython import display"
      ],
      "metadata": {
        "id": "J40XXxmy7lzF"
      },
      "execution_count": 3,
      "outputs": []
    },
    {
      "cell_type": "code",
      "source": [
        "from re import A\n",
        "satisfy=np.arange(1024).reshape(32,32)\n",
        "for y in range(0,32):\n",
        "    for z in range(0,32):\n",
        "                     if y==z:\n",
        "                        satisfy[y,z]=1\n",
        "                     else:\n",
        "                        satisfy[y,z]=0\n",
        "for w in range(24,30):\n",
        "                      if (w!=28)or(w!=29):\n",
        "                           satisfy[w,w]=-1\n",
        "print(satisfy)"
      ],
      "metadata": {
        "colab": {
          "base_uri": "https://localhost:8080/"
        },
        "id": "CpCeJJ_w9Vr9",
        "outputId": "4403d94f-0401-46a2-836d-faf99269ec46"
      },
      "execution_count": 8,
      "outputs": [
        {
          "output_type": "stream",
          "name": "stdout",
          "text": [
            "[[ 1  0  0 ...  0  0  0]\n",
            " [ 0  1  0 ...  0  0  0]\n",
            " [ 0  0  1 ...  0  0  0]\n",
            " ...\n",
            " [ 0  0  0 ... -1  0  0]\n",
            " [ 0  0  0 ...  0  1  0]\n",
            " [ 0  0  0 ...  0  0  1]]\n"
          ]
        }
      ]
    },
    {
      "cell_type": "code",
      "source": [
        "f=QuantumCircuit(5,name='oracle')\n",
        "inv=Operator(satisfy)\n",
        "f.unitary(inv,[0,1,2,3,4],label='ora')\n",
        "f.draw()"
      ],
      "metadata": {
        "colab": {
          "base_uri": "https://localhost:8080/",
          "height": 186
        },
        "id": "8BpnOkTy_uR0",
        "outputId": "3af09c52-48a5-4f61-e5ff-e41b578c1063"
      },
      "execution_count": 9,
      "outputs": [
        {
          "output_type": "execute_result",
          "data": {
            "text/plain": [
              "     ┌──────┐\n",
              "q_0: ┤0     ├\n",
              "     │      │\n",
              "q_1: ┤1     ├\n",
              "     │      │\n",
              "q_2: ┤2 ora ├\n",
              "     │      │\n",
              "q_3: ┤3     ├\n",
              "     │      │\n",
              "q_4: ┤4     ├\n",
              "     └──────┘"
            ],
            "text/html": [
              "<pre style=\"word-wrap: normal;white-space: pre;background: #fff0;line-height: 1.1;font-family: &quot;Courier New&quot;,Courier,monospace\">     ┌──────┐\n",
              "q_0: ┤0     ├\n",
              "     │      │\n",
              "q_1: ┤1     ├\n",
              "     │      │\n",
              "q_2: ┤2 ora ├\n",
              "     │      │\n",
              "q_3: ┤3     ├\n",
              "     │      │\n",
              "q_4: ┤4     ├\n",
              "     └──────┘</pre>"
            ]
          },
          "metadata": {},
          "execution_count": 9
        }
      ]
    },
    {
      "cell_type": "code",
      "source": [
        "ref = QuantumCircuit(5,name='reflect')\n",
        "ref.h([0,1,2,3,4])\n",
        "ref.x([0,1,2,3,4])\n",
        "ref.h([4])\n",
        "ref.mct(list(range(4)),4)\n",
        "ref.h(4)\n",
        "ref.x([0,1,2,3,4])\n",
        "ref.h([0,1,2,3,4])\n",
        "ref.draw()"
      ],
      "metadata": {
        "colab": {
          "base_uri": "https://localhost:8080/",
          "height": 186
        },
        "id": "yyEmMRN_A7ZK",
        "outputId": "3c07b5b9-a717-4102-9258-450969377350"
      },
      "execution_count": 10,
      "outputs": [
        {
          "output_type": "execute_result",
          "data": {
            "text/plain": [
              "     ┌───┐┌───┐          ┌───┐┌───┐     \n",
              "q_0: ┤ H ├┤ X ├───────■──┤ X ├┤ H ├─────\n",
              "     ├───┤├───┤       │  ├───┤├───┤     \n",
              "q_1: ┤ H ├┤ X ├───────■──┤ X ├┤ H ├─────\n",
              "     ├───┤├───┤       │  ├───┤├───┤     \n",
              "q_2: ┤ H ├┤ X ├───────■──┤ X ├┤ H ├─────\n",
              "     ├───┤├───┤       │  ├───┤├───┤     \n",
              "q_3: ┤ H ├┤ X ├───────■──┤ X ├┤ H ├─────\n",
              "     ├───┤├───┤┌───┐┌─┴─┐├───┤├───┤┌───┐\n",
              "q_4: ┤ H ├┤ X ├┤ H ├┤ X ├┤ H ├┤ X ├┤ H ├\n",
              "     └───┘└───┘└───┘└───┘└───┘└───┘└───┘"
            ],
            "text/html": [
              "<pre style=\"word-wrap: normal;white-space: pre;background: #fff0;line-height: 1.1;font-family: &quot;Courier New&quot;,Courier,monospace\">     ┌───┐┌───┐          ┌───┐┌───┐     \n",
              "q_0: ┤ H ├┤ X ├───────■──┤ X ├┤ H ├─────\n",
              "     ├───┤├───┤       │  ├───┤├───┤     \n",
              "q_1: ┤ H ├┤ X ├───────■──┤ X ├┤ H ├─────\n",
              "     ├───┤├───┤       │  ├───┤├───┤     \n",
              "q_2: ┤ H ├┤ X ├───────■──┤ X ├┤ H ├─────\n",
              "     ├───┤├───┤       │  ├───┤├───┤     \n",
              "q_3: ┤ H ├┤ X ├───────■──┤ X ├┤ H ├─────\n",
              "     ├───┤├───┤┌───┐┌─┴─┐├───┤├───┤┌───┐\n",
              "q_4: ┤ H ├┤ X ├┤ H ├┤ X ├┤ H ├┤ X ├┤ H ├\n",
              "     └───┘└───┘└───┘└───┘└───┘└───┘└───┘</pre>"
            ]
          },
          "metadata": {},
          "execution_count": 10
        }
      ]
    },
    {
      "cell_type": "code",
      "source": [
        ""
      ],
      "metadata": {
        "id": "QFb1JJR8DLtr"
      },
      "execution_count": null,
      "outputs": []
    },
    {
      "cell_type": "code",
      "source": [
        "backend = Aer.get_backend('statevector_simulator')\n",
        "groreg = QuantumRegister(5)\n",
        "grocirc= QuantumCircuit(groreg, name='Grover')\n",
        "grocirc.h([0,1,2,3,4])\n",
        "#1\n",
        "grocirc.append(f,[0,1,2,3,4])\n",
        "grocirc.append(ref,[0,1,2,3,4])\n",
        "#2\n",
        "grocirc.append(f,[0,1,2,3,4])\n",
        "grocirc.append(ref,[0,1,2,3,4])\n",
        "\n",
        "#3\n",
        "groexec=execute(grocirc,backend)\n",
        "result = groexec.result()\n",
        "svect = qi.Statevector.from_instruction(grocirc)\n",
        "\n",
        "grocirc.measure_all()\n",
        "grocirc.draw()"
      ],
      "metadata": {
        "colab": {
          "base_uri": "https://localhost:8080/",
          "height": 217
        },
        "id": "TtSYnId4BV9L",
        "outputId": "72ce2599-f255-4daf-a130-2507d4f77f93"
      },
      "execution_count": 14,
      "outputs": [
        {
          "output_type": "execute_result",
          "data": {
            "text/plain": [
              "        ┌───┐┌─────────┐┌──────────┐┌─────────┐┌──────────┐ ░ ┌─┐            \n",
              " q40_0: ┤ H ├┤0        ├┤0         ├┤0        ├┤0         ├─░─┤M├────────────\n",
              "        ├───┤│         ││          ││         ││          │ ░ └╥┘┌─┐         \n",
              " q40_1: ┤ H ├┤1        ├┤1         ├┤1        ├┤1         ├─░──╫─┤M├─────────\n",
              "        ├───┤│         ││          ││         ││          │ ░  ║ └╥┘┌─┐      \n",
              " q40_2: ┤ H ├┤2 oracle ├┤2 reflect ├┤2 oracle ├┤2 reflect ├─░──╫──╫─┤M├──────\n",
              "        ├───┤│         ││          ││         ││          │ ░  ║  ║ └╥┘┌─┐   \n",
              " q40_3: ┤ H ├┤3        ├┤3         ├┤3        ├┤3         ├─░──╫──╫──╫─┤M├───\n",
              "        ├───┤│         ││          ││         ││          │ ░  ║  ║  ║ └╥┘┌─┐\n",
              " q40_4: ┤ H ├┤4        ├┤4         ├┤4        ├┤4         ├─░──╫──╫──╫──╫─┤M├\n",
              "        └───┘└─────────┘└──────────┘└─────────┘└──────────┘ ░  ║  ║  ║  ║ └╥┘\n",
              "meas: 5/═══════════════════════════════════════════════════════╩══╩══╩══╩══╩═\n",
              "                                                               0  1  2  3  4 "
            ],
            "text/html": [
              "<pre style=\"word-wrap: normal;white-space: pre;background: #fff0;line-height: 1.1;font-family: &quot;Courier New&quot;,Courier,monospace\">        ┌───┐┌─────────┐┌──────────┐┌─────────┐┌──────────┐ ░ ┌─┐            \n",
              " q40_0: ┤ H ├┤0        ├┤0         ├┤0        ├┤0         ├─░─┤M├────────────\n",
              "        ├───┤│         ││          ││         ││          │ ░ └╥┘┌─┐         \n",
              " q40_1: ┤ H ├┤1        ├┤1         ├┤1        ├┤1         ├─░──╫─┤M├─────────\n",
              "        ├───┤│         ││          ││         ││          │ ░  ║ └╥┘┌─┐      \n",
              " q40_2: ┤ H ├┤2 oracle ├┤2 reflect ├┤2 oracle ├┤2 reflect ├─░──╫──╫─┤M├──────\n",
              "        ├───┤│         ││          ││         ││          │ ░  ║  ║ └╥┘┌─┐   \n",
              " q40_3: ┤ H ├┤3        ├┤3         ├┤3        ├┤3         ├─░──╫──╫──╫─┤M├───\n",
              "        ├───┤│         ││          ││         ││          │ ░  ║  ║  ║ └╥┘┌─┐\n",
              " q40_4: ┤ H ├┤4        ├┤4         ├┤4        ├┤4         ├─░──╫──╫──╫──╫─┤M├\n",
              "        └───┘└─────────┘└──────────┘└─────────┘└──────────┘ ░  ║  ║  ║  ║ └╥┘\n",
              "meas: 5/═══════════════════════════════════════════════════════╩══╩══╩══╩══╩═\n",
              "                                                               0  1  2  3  4 </pre>"
            ]
          },
          "metadata": {},
          "execution_count": 14
        }
      ]
    },
    {
      "cell_type": "code",
      "source": [
        "qsm = QasmSimulator()\n",
        "options = {'method': 'statevector'}\n",
        "execute(grocirc, qsm, backend_options=options)\n",
        "\n",
        "svect.draw('latex')\n"
      ],
      "metadata": {
        "colab": {
          "base_uri": "https://localhost:8080/",
          "height": 114
        },
        "id": "8wwoVYPyDM8R",
        "outputId": "bc769d65-d884-4382-f6c0-6940c9402345"
      },
      "execution_count": 15,
      "outputs": [
        {
          "output_type": "execute_result",
          "data": {
            "text/plain": [
              "<IPython.core.display.Latex object>"
            ],
            "text/latex": "$$- \\frac{2^{\\frac{361}{441}} \\cdot 3^{\\frac{211}{441}} \\cdot 5^{\\frac{46}{63}} \\cdot 7^{\\frac{220}{441}}}{70 \\pi^{\\frac{47}{49}}} |00000\\rangle- \\frac{2^{\\frac{361}{441}} \\cdot 3^{\\frac{211}{441}} \\cdot 5^{\\frac{46}{63}} \\cdot 7^{\\frac{220}{441}}}{70 \\pi^{\\frac{47}{49}}} |00001\\rangle- \\frac{2^{\\frac{361}{441}} \\cdot 3^{\\frac{211}{441}} \\cdot 5^{\\frac{46}{63}} \\cdot 7^{\\frac{220}{441}}}{70 \\pi^{\\frac{47}{49}}} |00010\\rangle- \\frac{2^{\\frac{361}{441}} \\cdot 3^{\\frac{211}{441}} \\cdot 5^{\\frac{46}{63}} \\cdot 7^{\\frac{220}{441}}}{70 \\pi^{\\frac{47}{49}}} |00011\\rangle- \\frac{2^{\\frac{361}{441}} \\cdot 3^{\\frac{211}{441}} \\cdot 5^{\\frac{46}{63}} \\cdot 7^{\\frac{220}{441}}}{70 \\pi^{\\frac{47}{49}}} |00100\\rangle- \\frac{2^{\\frac{361}{441}} \\cdot 3^{\\frac{211}{441}} \\cdot 5^{\\frac{46}{63}} \\cdot 7^{\\frac{220}{441}}}{70 \\pi^{\\frac{47}{49}}} |00101\\rangle + \\ldots +0.320407760225154 |11011\\rangle+0.320407760225154 |11100\\rangle+0.320407760225154 |11101\\rangle- \\frac{2 \\cdot 2^{\\frac{73}{239}} \\cdot 3^{\\frac{44}{239}} \\cdot 5^{\\frac{46}{239}} \\cdot 7^{\\frac{228}{239}}}{75 \\pi^{\\frac{222}{239}}} |11110\\rangle- \\frac{2 \\cdot 2^{\\frac{73}{239}} \\cdot 3^{\\frac{44}{239}} \\cdot 5^{\\frac{46}{239}} \\cdot 7^{\\frac{228}{239}}}{75 \\pi^{\\frac{222}{239}}} |11111\\rangle$$"
          },
          "metadata": {},
          "execution_count": 15
        }
      ]
    },
    {
      "cell_type": "code",
      "source": [
        "simulate = Aer.get_backend('aer_simulator')\n",
        "transpiled_grover_circuit = transpile(grocirc, simulate)\n",
        "asgrov = assemble(transpiled_grover_circuit)\n",
        "results = simulate.run(asgrov).result()\n",
        "shots = results.get_counts()\n",
        "plot_histogram(shots)"
      ],
      "metadata": {
        "colab": {
          "base_uri": "https://localhost:8080/",
          "height": 356
        },
        "id": "5ms8-TSsDYgB",
        "outputId": "078bfc07-01e4-434a-b957-09ff7f04bdc9"
      },
      "execution_count": 16,
      "outputs": [
        {
          "output_type": "execute_result",
          "data": {
            "text/plain": [
              "<Figure size 504x360 with 1 Axes>"
            ],
            "image/png": "[encoded data removed]"
          },
          "metadata": {},
          "execution_count": 16
        }
      ]
    }
  ]
}